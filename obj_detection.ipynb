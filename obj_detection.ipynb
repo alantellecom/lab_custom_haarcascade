{
 "cells": [
  {
   "cell_type": "code",
   "execution_count": 1,
   "metadata": {
    "collapsed": true,
    "jupyter": {
     "outputs_hidden": true
    }
   },
   "outputs": [
    {
     "name": "stdout",
     "output_type": "stream",
     "text": [
      "Requirement already satisfied: ffmpeg-python in c:\\users\\nuc\\miniconda3\\envs\\tensorflow\\lib\\site-packages (0.2.0)\n",
      "Requirement already satisfied: future in c:\\users\\nuc\\miniconda3\\envs\\tensorflow\\lib\\site-packages (from ffmpeg-python) (0.18.2)\n",
      "Note: you may need to restart the kernel to use updated packages.\n"
     ]
    }
   ],
   "source": [
    "pip install ffmpeg-python"
   ]
  },
  {
   "cell_type": "code",
   "execution_count": 2,
   "metadata": {
    "collapsed": true,
    "jupyter": {
     "outputs_hidden": true
    }
   },
   "outputs": [
    {
     "name": "stdout",
     "output_type": "stream",
     "text": [
      "Requirement already satisfied: opencv-python in c:\\users\\nuc\\miniconda3\\envs\\tensorflow\\lib\\site-packages (4.5.1.48)\n",
      "Requirement already satisfied: numpy>=1.14.5 in c:\\users\\nuc\\miniconda3\\envs\\tensorflow\\lib\\site-packages (from opencv-python) (1.19.1)\n",
      "Note: you may need to restart the kernel to use updated packages.\n"
     ]
    }
   ],
   "source": [
    "pip install opencv-python"
   ]
  },
  {
   "cell_type": "code",
   "execution_count": 1,
   "metadata": {},
   "outputs": [],
   "source": [
    "\n",
    "import cv2\n",
    "\n",
    "################################################################\n",
    "path = '.\\\\cascade.xml'  # PATH OF THE CASCADE\n",
    "cameraNo = 0                       # CAMERA NUMBER\n",
    "objectName = 'Cerveja'       # OBJECT NAME TO DISPLAY\n",
    "frameWidth= 640                     # DISPLAY WIDTH\n",
    "frameHeight = 480                  # DISPLAY HEIGHT\n",
    "color= (255,0,255)\n",
    "#################################################################\n",
    "\n",
    "\n",
    "cap = cv2.VideoCapture(cameraNo)\n",
    "cap.set(3, frameWidth)\n",
    "cap.set(4, frameHeight)\n",
    "\n",
    "def empty(a):\n",
    "    pass\n",
    "\n",
    "# CREATE TRACKBAR\n",
    "cv2.namedWindow(\"Result\")\n",
    "cv2.resizeWindow(\"Result\",frameWidth,frameHeight+100)\n",
    "cv2.createTrackbar(\"Scale\",\"Result\",400,1000,empty)\n",
    "cv2.createTrackbar(\"Neig\",\"Result\",8,50,empty)\n",
    "cv2.createTrackbar(\"Min Area\",\"Result\",1,100000,empty)\n",
    "cv2.createTrackbar(\"Brightness\",\"Result\",180,255,empty)\n",
    "\n",
    "# LOAD THE CLASSIFIERS DOWNLOADED\n",
    "cascade = cv2.CascadeClassifier(path)\n",
    "\n",
    "while True:\n",
    "    # SET CAMERA BRIGHTNESS FROM TRACKBAR VALUE\n",
    "    cameraBrightness = cv2.getTrackbarPos(\"Brightness\", \"Result\")\n",
    "    cap.set(10, cameraBrightness)\n",
    "    # GET CAMERA IMAGE AND CONVERT TO GRAYSCALE\n",
    "    success, img = cap.read()\n",
    "    gray = cv2.cvtColor(img, cv2.COLOR_BGR2GRAY)\n",
    "    # DETECT THE OBJECT USING THE CASCADE\n",
    "    scaleVal =1 + (cv2.getTrackbarPos(\"Scale\", \"Result\") /1000)\n",
    "    neig=cv2.getTrackbarPos(\"Neig\", \"Result\")\n",
    "    objects = cascade.detectMultiScale(gray,scaleVal, neig)\n",
    "    # DISPLAY THE DETECTED OBJECTS\n",
    "    for (x,y,w,h) in objects:\n",
    "        area = w*h\n",
    "        minArea = cv2.getTrackbarPos(\"Min Area\", \"Result\")\n",
    "        if area >minArea:\n",
    "            cv2.rectangle(img,(x,y),(x+w,y+h),color,3)\n",
    "            cv2.putText(img,objectName,(x,y-5),cv2.FONT_HERSHEY_COMPLEX_SMALL,1,color,2)\n",
    "            roi_color = img[y:y+h, x:x+w]\n",
    "\n",
    "    cv2.imshow(\"Result\", img)\n",
    "\n",
    "    if cv2.waitKey(1) & 0xFF == ord('q'):\n",
    "         break"
   ]
  },
  {
   "cell_type": "code",
   "execution_count": null,
   "metadata": {},
   "outputs": [],
   "source": []
  },
  {
   "cell_type": "code",
   "execution_count": null,
   "metadata": {},
   "outputs": [],
   "source": []
  }
 ],
 "metadata": {
  "kernelspec": {
   "display_name": "Python 3.7 (XPython)",
   "language": "python",
   "name": "xpython"
  },
  "language_info": {
   "file_extension": ".py",
   "mimetype": "text/x-python",
   "name": "python",
   "version": "3.7.9"
  }
 },
 "nbformat": 4,
 "nbformat_minor": 4
}
