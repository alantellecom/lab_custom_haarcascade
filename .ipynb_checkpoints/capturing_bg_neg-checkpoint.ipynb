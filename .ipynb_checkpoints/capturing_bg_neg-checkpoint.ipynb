{
 "cells": [
  {
   "cell_type": "code",
   "execution_count": 1,
   "metadata": {},
   "outputs": [
    {
     "name": "stdout",
     "output_type": "stream",
     "text": [
      "Requirement already satisfied: ffmpeg-python in c:\\users\\nuc\\miniconda3\\envs\\tensorflow\\lib\\site-packages (0.2.0)\n",
      "Requirement already satisfied: future in c:\\users\\nuc\\miniconda3\\envs\\tensorflow\\lib\\site-packages (from ffmpeg-python) (0.18.2)\n",
      "Note: you may need to restart the kernel to use updated packages.\n"
     ]
    }
   ],
   "source": [
    "pip install ffmpeg-python"
   ]
  },
  {
   "cell_type": "code",
   "execution_count": 2,
   "metadata": {},
   "outputs": [
    {
     "name": "stdout",
     "output_type": "stream",
     "text": [
      "Requirement already satisfied: opencv-python in c:\\users\\nuc\\miniconda3\\envs\\tensorflow\\lib\\site-packages (4.5.1.48)\n",
      "Requirement already satisfied: numpy>=1.14.5 in c:\\users\\nuc\\miniconda3\\envs\\tensorflow\\lib\\site-packages (from opencv-python) (1.19.1)\n",
      "Note: you may need to restart the kernel to use updated packages.\n"
     ]
    }
   ],
   "source": [
    "pip install opencv-python"
   ]
  },
  {
   "cell_type": "code",
   "execution_count": 2,
   "metadata": {},
   "outputs": [],
   "source": [
    "import cv2\n",
    "import numpy as np"
   ]
  },
  {
   "cell_type": "code",
   "execution_count": 9,
   "metadata": {},
   "outputs": [
    {
     "name": "stdout",
     "output_type": "stream",
     "text": [
      "Collecting Samples Complete\n"
     ]
    }
   ],
   "source": [
    "# carrega HAAR face classifier\n",
    "#face_classifier = cv2.CascadeClassifier('.\\\\haarcascade_frontalface_default.xml')\n",
    "\n",
    "\n",
    "cap = cv2.VideoCapture(0) # inicializa captura da primeira camera (0)  detctada\n",
    "count = 1005\n",
    "\n",
    "# Coleta 1000 fotos\n",
    "while True:\n",
    "\n",
    "    ret, window = cap.read() # captura quadro a quadro\n",
    "\n",
    "    count += 1\n",
    "    gray = cv2.cvtColor(window, cv2.COLOR_BGR2GRAY)\n",
    "    photo = cv2.resize(gray, (100, 70))# \n",
    "\n",
    "\n",
    "    file_name_path = '.\\\\neg\\\\' + str(count) + '.jpg' # define nome e caminho da foto\n",
    "    cv2.imwrite(file_name_path, photo) # salva a foto no path especificado\n",
    "\n",
    "    cv2.putText(gray, str(count), (50, 50), cv2.FONT_HERSHEY_COMPLEX, 1, (0,255,0), 2) # exibe numero da foto na tela\n",
    "    cv2.imshow('photo', gray) # exibe \n",
    "\n",
    "\n",
    "    if cv2.waitKey(1) == 27 or count == 2005: #27 = 'esc'\n",
    "        break\n",
    "        \n",
    "cap.release()\n",
    "cv2.destroyAllWindows()      \n",
    "print(\"Collecting Samples Complete\")"
   ]
  },
  {
   "cell_type": "code",
   "execution_count": null,
   "metadata": {},
   "outputs": [],
   "source": []
  },
  {
   "cell_type": "code",
   "execution_count": null,
   "metadata": {},
   "outputs": [],
   "source": []
  }
 ],
 "metadata": {
  "kernelspec": {
   "display_name": "Python 3.7 (XPython)",
   "language": "python",
   "name": "xpython"
  },
  "language_info": {
   "file_extension": ".py",
   "mimetype": "text/x-python",
   "name": "python",
   "version": "3.7.9"
  }
 },
 "nbformat": 4,
 "nbformat_minor": 4
}
