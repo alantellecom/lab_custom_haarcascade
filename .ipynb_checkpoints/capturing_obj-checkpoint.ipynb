{
 "cells": [
  {
   "cell_type": "code",
   "execution_count": 1,
   "metadata": {},
   "outputs": [
    {
     "name": "stdout",
     "output_type": "stream",
     "text": [
      "Requirement already satisfied: ffmpeg-python in c:\\users\\nuc\\miniconda3\\envs\\tensorflow\\lib\\site-packages (0.2.0)\n",
      "Requirement already satisfied: future in c:\\users\\nuc\\miniconda3\\envs\\tensorflow\\lib\\site-packages (from ffmpeg-python) (0.18.2)\n",
      "Note: you may need to restart the kernel to use updated packages.\n"
     ]
    }
   ],
   "source": [
    "pip install ffmpeg-python"
   ]
  },
  {
   "cell_type": "code",
   "execution_count": 2,
   "metadata": {},
   "outputs": [
    {
     "name": "stdout",
     "output_type": "stream",
     "text": [
      "Requirement already satisfied: opencv-python in c:\\users\\nuc\\miniconda3\\envs\\tensorflow\\lib\\site-packages (4.5.1.48)\n",
      "Requirement already satisfied: numpy>=1.14.5 in c:\\users\\nuc\\miniconda3\\envs\\tensorflow\\lib\\site-packages (from opencv-python) (1.19.1)\n",
      "Note: you may need to restart the kernel to use updated packages.\n"
     ]
    }
   ],
   "source": [
    "pip install opencv-python"
   ]
  },
  {
   "cell_type": "code",
   "execution_count": 13,
   "metadata": {},
   "outputs": [],
   "source": [
    "import cv2\n",
    "import os\n",
    "import time\n",
    "\n",
    "#####################################################\n",
    "\n",
    "myPath = '.\\\\sample\\\\n\\\\' # Rasbperry Pi:  '/home/pi/Desktop/data/images'\n",
    "cameraNo = 0\n",
    "cameraBrightness = 180\n",
    "moduleVal = 10  # SAVE EVERY ITH FRAME TO AVOID REPETITION\n",
    "minBlur = 500  # SMALLER VALUE MEANS MORE BLURRINESS PRESENT\n",
    "grayImage = False # IMAGES SAVED COLORED OR GRAY\n",
    "saveData = True   # SAVE DATA FLAG\n",
    "showImage = True  # IMAGE DISPLAY FLAG\n",
    "imgWidth = 180\n",
    "imgHeight = 120\n",
    "\n",
    "\n",
    "#####################################################\n",
    "\n",
    "global countFolder\n",
    "cap = cv2.VideoCapture(cameraNo)\n",
    "cap.set(3, 640)\n",
    "cap.set(4, 480)\n",
    "cap.set(10,cameraBrightness)\n",
    "\n",
    "\n",
    "count = 0\n",
    "countSave =0\n",
    "\n",
    "while True:\n",
    "\n",
    "    success, img = cap.read()\n",
    "    img = cv2.resize(img,(imgWidth,imgHeight))\n",
    "    img = cv2.cvtColor(img,cv2.COLOR_BGR2GRAY)\n",
    "    blur = cv2.Laplacian(img, cv2.CV_64F).var()\n",
    "    \n",
    "    if (count % moduleVal == 0) and (blur > minBlur):\n",
    "        nowTime = time.time()\n",
    "        cv2.imwrite(myPath + str(countSave)+\"_\"+ str(int(blur))+\"_\"+str(nowTime)+\".png\", img)\n",
    "        countSave+=1\n",
    "        \n",
    "    count += 1\n",
    "\n",
    "    if showImage:\n",
    "        cv2.imshow(\"Image\", img)\n",
    "\n",
    "    if cv2.waitKey(1) & 0xFF == ord('q'):\n",
    "        break\n",
    "\n",
    "cap.release()\n",
    "cv2.destroyAllWindows()"
   ]
  },
  {
   "cell_type": "code",
   "execution_count": null,
   "metadata": {},
   "outputs": [],
   "source": []
  },
  {
   "cell_type": "code",
   "execution_count": null,
   "metadata": {},
   "outputs": [],
   "source": []
  }
 ],
 "metadata": {
  "kernelspec": {
   "display_name": "Python 3.7 (XPython)",
   "language": "python",
   "name": "xpython"
  },
  "language_info": {
   "file_extension": ".py",
   "mimetype": "text/x-python",
   "name": "python",
   "version": "3.7.9"
  }
 },
 "nbformat": 4,
 "nbformat_minor": 4
}
