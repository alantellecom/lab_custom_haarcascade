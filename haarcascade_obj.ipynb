{
  "nbformat": 4,
  "nbformat_minor": 0,
  "metadata": {
    "colab": {
      "name": "haarcascade_obj.ipynb",
      "provenance": []
    },
    "kernelspec": {
      "name": "python3",
      "display_name": "Python 3"
    }
  },
  "cells": [
    {
      "cell_type": "code",
      "metadata": {
        "id": "GqiCBGI2P9mX"
      },
      "source": [
        "import os\r\n",
        "import cv2"
      ],
      "execution_count": 1,
      "outputs": []
    },
    {
      "cell_type": "code",
      "metadata": {
        "id": "iUmEqxUcD1zM"
      },
      "source": [
        "!apt-get install libopencv-dev"
      ],
      "execution_count": null,
      "outputs": []
    },
    {
      "cell_type": "code",
      "metadata": {
        "colab": {
          "base_uri": "https://localhost:8080/"
        },
        "id": "oZmBMZIDVJOy",
        "outputId": "fd66e7ff-09fb-4040-f475-8c6cb84b2a5f"
      },
      "source": [
        "from google.colab import drive\n",
        "drive.mount('/content/drive')"
      ],
      "execution_count": 2,
      "outputs": [
        {
          "output_type": "stream",
          "text": [
            "Mounted at /content/drive\n"
          ],
          "name": "stdout"
        }
      ]
    },
    {
      "cell_type": "code",
      "metadata": {
        "id": "4GBbgqCQeNoW"
      },
      "source": [
        "!git clone https://github.com/EscVM/OIDv4_ToolKit.git"
      ],
      "execution_count": null,
      "outputs": []
    },
    {
      "cell_type": "code",
      "metadata": {
        "id": "ujvkrzBbeRdG"
      },
      "source": [
        "!pip3 install -r /content/OIDv4_ToolKit/requirements.txt"
      ],
      "execution_count": null,
      "outputs": []
    },
    {
      "cell_type": "code",
      "metadata": {
        "id": "QMZPEcmAc1hQ"
      },
      "source": [
        "#!rm -r './OID'"
      ],
      "execution_count": null,
      "outputs": []
    },
    {
      "cell_type": "code",
      "metadata": {
        "id": "mFPf0Cq6eXIC"
      },
      "source": [
        "!python /content/OIDv4_ToolKit/main.py downloader --classes Shelf --type_csv train --limit 2000"
      ],
      "execution_count": null,
      "outputs": []
    },
    {
      "cell_type": "code",
      "metadata": {
        "id": "HdPFoVSbRGor"
      },
      "source": [
        "!rm -r './OID/Dataset/train/Shelf/Label'"
      ],
      "execution_count": null,
      "outputs": []
    },
    {
      "cell_type": "code",
      "metadata": {
        "id": "3ysjztGzQ6sN"
      },
      "source": [
        "!rm -r neg\r\n",
        "!mkdir neg"
      ],
      "execution_count": null,
      "outputs": []
    },
    {
      "cell_type": "code",
      "metadata": {
        "id": "UwsItR56mcZZ"
      },
      "source": [
        "path_dataset_bg = '/content/drive/MyDrive/Colab Notebooks/dataset_haar_cascade_objetos/neg/'\r\n",
        "dataset_files_bg = os.listdir(path_dataset_bg)\r\n",
        "\r\n",
        "#path_dataset_neg = './neg/'\r\n",
        "#dataset_files_neg = os.listdir(path_dataset_neg)"
      ],
      "execution_count": 45,
      "outputs": []
    },
    {
      "cell_type": "code",
      "metadata": {
        "id": "NmQlYE3wjnET"
      },
      "source": [
        "#fotos já são 100 x 70 e preto e branco\r\n",
        "pic_num = 1\r\n",
        "for file_item in dataset_files_bg:\r\n",
        "    img = cv2.imread(path_dataset_bg + file_item,cv2.IMREAD_GRAYSCALE) \r\n",
        "    try:\r\n",
        "        cv2.imwrite(path_dataset_neg + str(pic_num)+\".jpg\",img)\r\n",
        "        pic_num += 1\r\n",
        "    except Exception as e:\r\n",
        "        print(str(e))"
      ],
      "execution_count": 8,
      "outputs": []
    },
    {
      "cell_type": "code",
      "metadata": {
        "colab": {
          "base_uri": "https://localhost:8080/"
        },
        "id": "C-0_UqFw_bku",
        "outputId": "ece8a7d5-e2b0-42c5-d82e-1af7b3e2b135"
      },
      "source": [
        "!ls ./neg | wc -l"
      ],
      "execution_count": 10,
      "outputs": [
        {
          "output_type": "stream",
          "text": [
            "2000\n"
          ],
          "name": "stdout"
        }
      ]
    },
    {
      "cell_type": "code",
      "metadata": {
        "colab": {
          "base_uri": "https://localhost:8080/"
        },
        "id": "OA1p_EZ88uJE",
        "outputId": "53c59e7e-b0a9-4472-90f0-36aade642104"
      },
      "source": [
        "img = cv2.imread('./cartao.jpg',cv2.IMREAD_GRAYSCALE)\r\n",
        "resized_image = cv2.resize(img, (20, 35))\r\n",
        "cv2.imwrite(\"./cartao_20_35.jpg\",resized_image)"
      ],
      "execution_count": 32,
      "outputs": [
        {
          "output_type": "execute_result",
          "data": {
            "text/plain": [
              "True"
            ]
          },
          "metadata": {
            "tags": []
          },
          "execution_count": 32
        }
      ]
    },
    {
      "cell_type": "code",
      "metadata": {
        "id": "ZeMwdiRWnv8t"
      },
      "source": [
        "for img in dataset_files_bg:\r\n",
        "    line = path_dataset_bg + img + '\\n'\r\n",
        "    with open('bg.txt','a') as f:\r\n",
        "        f.write(line)"
      ],
      "execution_count": 46,
      "outputs": []
    },
    {
      "cell_type": "code",
      "metadata": {
        "id": "LGo9fUawiDW-"
      },
      "source": [
        "!rm -r info"
      ],
      "execution_count": 47,
      "outputs": []
    },
    {
      "cell_type": "code",
      "metadata": {
        "id": "OgnQCpuZ_lQx"
      },
      "source": [
        "!opencv_createsamples -img cartao_20_35.jpg -bg bg.txt -info info/info.lst -pngoutput info -maxxangle 0.5 -maxyangle 0.5 -maxzangle 0.5 -num 2000"
      ],
      "execution_count": null,
      "outputs": []
    },
    {
      "cell_type": "code",
      "metadata": {
        "colab": {
          "base_uri": "https://localhost:8080/"
        },
        "id": "E1tP4UJmaFHh",
        "outputId": "2bf03957-0061-40db-8ae3-e577f6de5d07"
      },
      "source": [
        "!ls '/content/info' | wc -l"
      ],
      "execution_count": 49,
      "outputs": [
        {
          "output_type": "stream",
          "text": [
            "2001\n"
          ],
          "name": "stdout"
        }
      ]
    },
    {
      "cell_type": "code",
      "metadata": {
        "colab": {
          "base_uri": "https://localhost:8080/"
        },
        "id": "nvaGEWmUO__6",
        "outputId": "e94dea82-9395-4444-8979-7936824785e7"
      },
      "source": [
        "!opencv_createsamples -info info/info.lst -num 2000 -w 30 -h 20 -vec positives.vec"
      ],
      "execution_count": 52,
      "outputs": [
        {
          "output_type": "stream",
          "text": [
            "Info file name: info/info.lst\n",
            "Img file name: (NULL)\n",
            "Vec file name: positives.vec\n",
            "BG  file name: (NULL)\n",
            "Num: 2000\n",
            "BG color: 0\n",
            "BG threshold: 80\n",
            "Invert: FALSE\n",
            "Max intensity deviation: 40\n",
            "Max x angle: 1.1\n",
            "Max y angle: 1.1\n",
            "Max z angle: 0.5\n",
            "Show samples: FALSE\n",
            "Width: 30\n",
            "Height: 20\n",
            "Max Scale: -1\n",
            "Create training samples from images collection...\n",
            "Done. Created 2000 samples\n"
          ],
          "name": "stdout"
        }
      ]
    },
    {
      "cell_type": "code",
      "metadata": {
        "id": "ytKte8n9z9TM"
      },
      "source": [
        "!rm -r data\r\n",
        "!mkdir data"
      ],
      "execution_count": 50,
      "outputs": []
    },
    {
      "cell_type": "code",
      "metadata": {
        "colab": {
          "base_uri": "https://localhost:8080/"
        },
        "id": "KxQwQ_3ZV3ZO",
        "outputId": "24688f23-8e08-4b28-e8f8-7ae40db5a768"
      },
      "source": [
        "!opencv_traincascade -data data -vec positives.vec -bg bg.txt -numPos 1900 -numNeg 950 -numStages 5 -w 30 -h 20"
      ],
      "execution_count": 54,
      "outputs": [
        {
          "output_type": "stream",
          "text": [
            "---------------------------------------------------------------------------------\n",
            "Training parameters are pre-loaded from the parameter file in data folder!\n",
            "Please empty this folder if you want to use a NEW set of training parameters.\n",
            "---------------------------------------------------------------------------------\n",
            "PARAMETERS:\n",
            "cascadeDirName: data\n",
            "vecFileName: positives.vec\n",
            "bgFileName: bg.txt\n",
            "numPos: 1900\n",
            "numNeg: 950\n",
            "numStages: 5\n",
            "precalcValBufSize[Mb] : 1024\n",
            "precalcIdxBufSize[Mb] : 1024\n",
            "acceptanceRatioBreakValue : -1\n",
            "stageType: BOOST\n",
            "featureType: HAAR\n",
            "sampleWidth: 30\n",
            "sampleHeight: 20\n",
            "boostType: GAB\n",
            "minHitRate: 0.995\n",
            "maxFalseAlarmRate: 0.5\n",
            "weightTrimRate: 0.95\n",
            "maxDepth: 1\n",
            "maxWeakCount: 100\n",
            "mode: BASIC\n",
            "Number of unique features given windowSize [30,20] : 175995\n",
            "\n",
            "Stages 0-3 are loaded\n",
            "\n",
            "===== TRAINING 4-stage =====\n",
            "<BEGIN\n",
            "POS count : consumed   1900 : 1921\n",
            "NEG count : acceptanceRatio    950 : 0.0577894\n",
            "tcmalloc: large alloc 1073750016 bytes == 0x5584c2746000 @  0x7f9c7c6ac1e7 0x7f9c7b8a6382 0x7f9c7b9a521b 0x5584bb6e3608 0x5584bb6e3d42 0x5584bb6e3e1a 0x5584bb6ed1a9 0x5584bb6d9fff 0x7f9c7ab69bf7 0x5584bb6dac1a\n",
            "tcmalloc: large alloc 2006368256 bytes == 0x558502748000 @  0x7f9c7c6ac1e7 0x7f9c7b8a6382 0x7f9c7b8c6e15 0x7f9c7b8c6f21 0x5584bb6e36fb 0x5584bb6e3d42 0x5584bb6e3e1a 0x5584bb6ed1a9 0x5584bb6d9fff 0x7f9c7ab69bf7 0x5584bb6dac1a\n",
            "Precalculation time: 37\n",
            "+----+---------+---------+\n",
            "|  N |    HR   |    FA   |\n",
            "+----+---------+---------+\n",
            "|   1|        1|        1|\n",
            "+----+---------+---------+\n",
            "|   2|        1|        1|\n",
            "+----+---------+---------+\n",
            "|   3| 0.997895| 0.927368|\n",
            "+----+---------+---------+\n",
            "|   4| 0.997895| 0.927368|\n",
            "+----+---------+---------+\n",
            "|   5| 0.995263| 0.695789|\n",
            "+----+---------+---------+\n",
            "|   6| 0.995263| 0.595789|\n",
            "+----+---------+---------+\n",
            "|   7| 0.996842| 0.668421|\n",
            "+----+---------+---------+\n",
            "|   8| 0.995263| 0.489474|\n",
            "+----+---------+---------+\n",
            "END>\n",
            "Training until now has taken 0 days 0 hours 4 minutes 28 seconds.\n"
          ],
          "name": "stdout"
        }
      ]
    }
  ]
}