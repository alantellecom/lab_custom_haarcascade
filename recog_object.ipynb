{
 "cells": [
  {
   "cell_type": "code",
   "execution_count": 1,
   "metadata": {},
   "outputs": [
    {
     "name": "stdout",
     "output_type": "stream",
     "text": [
      "Requirement already satisfied: ffmpeg-python in c:\\users\\nuc\\miniconda3\\envs\\tensorflow\\lib\\site-packages (0.2.0)\n",
      "Requirement already satisfied: future in c:\\users\\nuc\\miniconda3\\envs\\tensorflow\\lib\\site-packages (from ffmpeg-python) (0.18.2)\n",
      "Note: you may need to restart the kernel to use updated packages.\n"
     ]
    }
   ],
   "source": [
    "pip install ffmpeg-python"
   ]
  },
  {
   "cell_type": "code",
   "execution_count": 2,
   "metadata": {},
   "outputs": [
    {
     "name": "stdout",
     "output_type": "stream",
     "text": [
      "Requirement already satisfied: opencv-python in c:\\users\\nuc\\miniconda3\\envs\\tensorflow\\lib\\site-packages (4.5.1.48)\n",
      "Requirement already satisfied: numpy>=1.14.5 in c:\\users\\nuc\\miniconda3\\envs\\tensorflow\\lib\\site-packages (from opencv-python) (1.19.1)\n",
      "Note: you may need to restart the kernel to use updated packages.\n"
     ]
    }
   ],
   "source": [
    "pip install opencv-python"
   ]
  },
  {
   "cell_type": "code",
   "execution_count": 11,
   "metadata": {},
   "outputs": [],
   "source": [
    "import cv2\n",
    "import numpy as np"
   ]
  },
  {
   "cell_type": "code",
   "execution_count": 36,
   "metadata": {},
   "outputs": [],
   "source": [
    "# carrega HAAR face classifier\n",
    "obj_classifier = cv2.CascadeClassifier('.\\\\haarcascade_obj.xml')\n",
    "#face_cascade = cv2.CascadeClassifier('.\\\\haarcascade_frontalface_default.xml')\n",
    "cap = cv2.VideoCapture(0) # inicializa captura da primeira camera (0)  detectada\n",
    "\n",
    "while True:\n",
    "\n",
    "    ret, window = cap.read() # captura quadro a quadro\n",
    "    gray = cv2.cvtColor(window, cv2.COLOR_BGR2GRAY)\n",
    " #   faces = face_cascade.detectMultiScale(gray, 1.3, 5)\n",
    "    objs = obj_classifier.detectMultiScale(gray, 7, 160) \n",
    "# 2ª - valores baixos (>1 e <100) permite reconhecimento com diferente níveis de zoom, mas incluiem mais delay ao vídeo\n",
    "# 3ª - valores altos (>1 e <200), menos detecções multiplas, mas com maior acertividade\n",
    "    \n",
    "    for (x,y,w,h) in objs:\n",
    "        cv2.rectangle(window,(x,y),(x+w,y+h),(255,255,0),2)\n",
    "        \n",
    " #   for (x,y,w,h) in faces:\n",
    " #       cv2.rectangle(window,(x,y),(x+w,y+h),(255,0,0),2)\n",
    "        \n",
    "    cv2.imshow('img',window)\n",
    "    if cv2.waitKey(1) == 27: #27 = 'esc'\n",
    "        break\n",
    "        \n",
    "cap.release()\n",
    "cv2.destroyAllWindows()"
   ]
  },
  {
   "cell_type": "code",
   "execution_count": null,
   "metadata": {},
   "outputs": [],
   "source": []
  },
  {
   "cell_type": "code",
   "execution_count": null,
   "metadata": {},
   "outputs": [],
   "source": []
  }
 ],
 "metadata": {
  "kernelspec": {
   "display_name": "Python 3.7 (XPython)",
   "language": "python",
   "name": "xpython"
  },
  "language_info": {
   "file_extension": ".py",
   "mimetype": "text/x-python",
   "name": "python",
   "version": "3.7.9"
  }
 },
 "nbformat": 4,
 "nbformat_minor": 4
}
